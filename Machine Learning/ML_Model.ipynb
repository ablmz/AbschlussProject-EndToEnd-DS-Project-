{
 "cells": [
  {
   "cell_type": "markdown",
   "metadata": {},
   "source": [
    "# Machine Learning Model with The Data of Clinics in Lower Saxony Germany"
   ]
  },
  {
   "cell_type": "markdown",
   "metadata": {},
   "source": [
    "\n",
    "![Title](Workflow_ML.png)\n",
    "\n",
    "Photo@https://towardsdatascience.com/workflow-of-a-machine-learning-project-ec1dba419b94\n",
    "\n",
    "### The workflow of a Machine learning project includes all the steps required to build the proper machine learning project\n",
    "\n",
    "A Machine learning model is a piece of code; an engineer or data scientist makes it smart through training with data. The better you give to the model, the better result you will get. At the and the trained model will provide false or wrong predictions."
   ]
  },
  {
   "cell_type": "markdown",
   "metadata": {},
   "source": [
    "#### Imports,that will be needed."
   ]
  },
  {
   "cell_type": "code",
   "execution_count": 28,
   "metadata": {},
   "outputs": [],
   "source": [
    "import pandas as pd\n",
    "import pickle\n",
    "from PIL import Image\n",
    "import pickle"
   ]
  },
  {
   "cell_type": "code",
   "execution_count": 29,
   "metadata": {},
   "outputs": [],
   "source": [
    "from sklearn.model_selection import train_test_split\n",
    "from sklearn.feature_extraction.text import CountVectorizer\n",
    "from sklearn.feature_extraction.text import TfidfVectorizer\n",
    "from sklearn.svm import LinearSVC\n",
    "from sklearn.pipeline import Pipeline"
   ]
  },
  {
   "cell_type": "markdown",
   "metadata": {},
   "source": [
    "### Gathering Data\n",
    "The process of gathering data depends on the type of project we desire to make, in this Notebook we will work on Clinics Data with Text and Star Reviews of some Clinics in Lower Saxony Germany.<br>\n",
    "We got the data from klinikbewertung and Google Maps with webscraping and used frameworks like Scrapy, BeatifulSoup and Selenium. You can also find the webscraping codes in this repository."
   ]
  },
  {
   "cell_type": "markdown",
   "metadata": {},
   "source": [
    "##### Reading with pandas the previously saved csv data from local domain"
   ]
  },
  {
   "cell_type": "code",
   "execution_count": 37,
   "metadata": {},
   "outputs": [],
   "source": [
    "data = pd.read_csv(r'C:\\Users\\name\\Desktop\\WB\\Abschlussproject\\ML\\allclinical_data_lowersaxony_klinik_google_rating.csv', encoding='utf-8') #https://github.com/ablmz/Final-Project/tree/adem/klinikbewertung.de"
   ]
  },
  {
   "cell_type": "markdown",
   "metadata": {},
   "source": [
    "##### Creating a  Pandas Dataframe with above mentioned  csv-Data"
   ]
  },
  {
   "cell_type": "code",
   "execution_count": 38,
   "metadata": {},
   "outputs": [],
   "source": [
    "df = pd.DataFrame(data, columns= ['Name der Klinik', 'Textuelle Bewertung','Rating'])"
   ]
  },
  {
   "cell_type": "markdown",
   "metadata": {},
   "source": [
    "### Training/Testing Model and Modeling"
   ]
  },
  {
   "cell_type": "code",
   "execution_count": 39,
   "metadata": {},
   "outputs": [],
   "source": [
    "def model_train():\n",
    "    vectorizer = TfidfVectorizer(analyzer=\"word\", max_df=0.3, min_df=10, ngram_range=(1, 2), norm=\"l2\")\n",
    "    vectorizer.fit(df[\"Textuelle Bewertung\"])\n",
    "    \n",
    "    X_train, X_test, Y_train, Y_test= train_test_split(df['Textuelle Bewertung'], df['Rating'], random_state=1, test_size=0.25, shuffle=True)\n",
    "    X_train_vec = vectorizer.transform(X_train)\n",
    "    X_test_vec = vectorizer.transform(X_test)\n",
    "    \n",
    "    model=LinearSVC().fit(X_train_vec, Y_train)\n",
    "    \n",
    "    vector_file = 'vector.pickle'\n",
    "    pickle.dump(vectorizer, open(vector_file, 'wb'))\n",
    "    \n",
    "    model_file = 'classifications.model'\n",
    "    pickle.dump(model, open(model_file, 'wb'))\n",
    "\n",
    "model_train()"
   ]
  },
  {
   "cell_type": "markdown",
   "metadata": {},
   "source": [
    "### Loading Model and Prediction "
   ]
  },
  {
   "cell_type": "code",
   "execution_count": 41,
   "metadata": {},
   "outputs": [
    {
     "name": "stdout",
     "output_type": "stream",
     "text": [
      "Schlechte Erfahrung\n"
     ]
    }
   ],
   "source": [
    "def Bewertung(text):\n",
    "    # load the vectorizer\n",
    "    load_vectorizer = pickle.load(open('vector.pickle', 'rb'))\n",
    "\n",
    "    # load the model\n",
    "    load_model = pickle.load(open('classifications.model', 'rb'))\n",
    "\n",
    "    # make a prediction\n",
    "    if load_model.predict(load_vectorizer.transform([text])):\n",
    "        print(\"Gute Erfahrung\")\n",
    "    else:\n",
    "        print(\"Schlechte Erfahrung\")\n",
    "    \n",
    "Bewertung('Es ist mit unbegreiflich warum hier so viele Leute die Klinik in den Himmel loben!Fachlich eine Katastrophe, viele unfreundliche Mitarbeiter, Therapieangebote 0/8/15 und rein garnichts individuel. Nur einmal pro Woche Visite die im 5 Minutentakt von statten geht.Raucherentwöhnung findet nicht statt, in 3 Wochen nur eine Gruppensitzung mit 6 Personen für 20 Min. Ansonsten nur Videovorführungen im großen Raum ohne Gespräche.Frühstück und Abendbrot auf Level eines Monteur-Hotel. Mittagessen war gut.Das Gebäude ist völlig veraltet und extrem Sanierungsbedürftig.Die Außenanlagen absolut ungepflegt.Freizeitangebot: 2 Kicker,2 Dart, 1 Tt-Platte und eine Kegelbahn aus den 70igern.Das Schwimmbad hat für das freie Schwimmen nur am Wochenende für jeweils 2 Stunden geöffnet und ohne Stempel auf der Behandlungskarte kommt man nicht rein.Fazit nach 3 Wochen mit PAVK : hat mir nichts gebracht , nur einen von fünf Sternen und den einen nur für das Mittagessen.')"
   ]
  },
  {
   "cell_type": "code",
   "execution_count": null,
   "metadata": {},
   "outputs": [],
   "source": []
  }
 ],
 "metadata": {
  "kernelspec": {
   "display_name": "Python 3",
   "language": "python",
   "name": "python3"
  },
  "language_info": {
   "codemirror_mode": {
    "name": "ipython",
    "version": 3
   },
   "file_extension": ".py",
   "mimetype": "text/x-python",
   "name": "python",
   "nbconvert_exporter": "python",
   "pygments_lexer": "ipython3",
   "version": "3.8.3"
  }
 },
 "nbformat": 4,
 "nbformat_minor": 4
}
