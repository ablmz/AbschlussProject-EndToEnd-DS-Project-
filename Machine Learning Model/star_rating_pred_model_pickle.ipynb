{
 "cells": [
  {
   "cell_type": "markdown",
   "metadata": {},
   "source": [
    "# Machine Learning Model with Data from Clinics in Lower Saxony Germany"
   ]
  },
  {
   "cell_type": "markdown",
   "metadata": {},
   "source": [
    "## Linear Support Vector Classifier  (LSVC)  Machine Learning\n",
    "The objective of a Linear SVC (Support Vector Classifier) is to fit to the data you provide, returning a \"best fit\" hyperplane that divides, or categorizes, your data. From there, after getting the hyperplane, you can then feed some features to your classifier to see what the \"predicted\" class is."
   ]
  },
  {
   "cell_type": "markdown",
   "metadata": {},
   "source": [
    "#    "
   ]
  },
  {
   "cell_type": "markdown",
   "metadata": {},
   "source": [
    "#### The workflow of a Machine learning project includes all the steps required to build the proper machine learning project\n",
    "A Machine learning model is a piece of code; an engineer or data scientist makes it smart through training with data. The better you give to the model, the better result you will get. At the and the trained model will provide false or wrong predictions.\n",
    "\n",
    "We can define the machine learning workflow in 5 Steps.\n",
    "\n",
    "1. Gathering data\n",
    "2. Data pre-processing (cleaning data, Missing data,Noisy data, Inconsistent data)\n",
    "3. Training and testing the model\n",
    "4. Evaluation\n",
    "5. Prediction"
   ]
  },
  {
   "cell_type": "markdown",
   "metadata": {},
   "source": [
    "### Python Libraries that would be need"
   ]
  },
  {
   "cell_type": "code",
   "execution_count": null,
   "metadata": {},
   "outputs": [],
   "source": [
    "import pandas as pd\n",
    "import pickle"
   ]
  },
  {
   "cell_type": "markdown",
   "metadata": {},
   "source": [
    "### 1. Gathering data\n",
    "The process of gathering data depends on the type of project we desire to make, in this Notebook we will work on Clinics Data with Text and Star Reviews of some Clinics in Lower Saxony Germany.\n",
    "We got the data from klinikbewertung and Google Maps with webscraping and used frameworks like Scrapy, BeatifulSoup and Selenium. You can also find the webscraping codes in this repository."
   ]
  },
  {
   "cell_type": "code",
   "execution_count": null,
   "metadata": {},
   "outputs": [],
   "source": [
    "df=pd.read_csv(r'C:\\Users\\nutzer\\Desktop\\Projekt\\Final\\Webscrapping_Github\\Machine_Learning _Google_reviews\\ML_model\\alldata_klinikandgoogle.csv', encoding='utf-8')"
   ]
  },
  {
   "cell_type": "code",
   "execution_count": null,
   "metadata": {},
   "outputs": [],
   "source": [
    "df.head()"
   ]
  },
  {
   "cell_type": "code",
   "execution_count": null,
   "metadata": {},
   "outputs": [],
   "source": [
    "df.count()"
   ]
  },
  {
   "cell_type": "code",
   "execution_count": null,
   "metadata": {},
   "outputs": [],
   "source": [
    "#df.sample(10)  # random data"
   ]
  },
  {
   "cell_type": "code",
   "execution_count": null,
   "metadata": {},
   "outputs": [],
   "source": [
    "df['Sternebewertung'].value_counts()"
   ]
  },
  {
   "cell_type": "markdown",
   "metadata": {},
   "source": [
    "# TDIDF and Linear SVM algorithm"
   ]
  },
  {
   "cell_type": "code",
   "execution_count": null,
   "metadata": {},
   "outputs": [],
   "source": [
    "from sklearn.model_selection import train_test_split\n",
    "from sklearn.feature_extraction.text import CountVectorizer\n",
    "from sklearn.feature_extraction.text import TfidfTransformer\n",
    "from sklearn.svm import LinearSVC"
   ]
  },
  {
   "cell_type": "markdown",
   "metadata": {},
   "source": [
    "#### Training and Testing Model\n"
   ]
  },
  {
   "cell_type": "markdown",
   "metadata": {},
   "source": [
    "# Train the classification model"
   ]
  },
  {
   "cell_type": "code",
   "execution_count": null,
   "metadata": {},
   "outputs": [],
   "source": [
    "def train_model():\n",
    "    \n",
    "    X_train, X_test, y_train, y_test = train_test_split(df['Textuelle Bewertung'], df['Sternebewertung'], random_state=0)\n",
    "\n",
    "    count_vect = CountVectorizer()\n",
    "    X_train_counts = count_vect.fit_transform(X_train)\n",
    "    tfidf_transformer = TfidfTransformer()\n",
    "    X_train_tfidf = tfidf_transformer.fit_transform(X_train_counts)\n",
    "\n",
    "    model = LinearSVC().fit(X_train_tfidf, y_train)\n",
    "\n",
    "    # Save the vectorizer\n",
    "    vec_file = 'vectorizer.pickle'\n",
    "    pickle.dump(count_vect, open(vec_file, 'wb'))\n",
    "\n",
    "    # Save the model\n",
    "    mod_file = 'classification.mode'\n",
    "    pickle.dump(model, open(mod_file, 'wb'))\n",
    "\n",
    "train_model()"
   ]
  },
  {
   "cell_type": "markdown",
   "metadata": {},
   "source": [
    "# Load the classification model from disk and use for predictions"
   ]
  },
  {
   "cell_type": "code",
   "execution_count": null,
   "metadata": {},
   "outputs": [],
   "source": [
    "# Load the classification model from disk and use for predictions\n",
    "def Review(x):\n",
    "    # load the vectorizer\n",
    "    loaded_vectorizer = pickle.load(open('vectorizer.pickle', 'rb'))\n",
    "\n",
    "    # load the model\n",
    "    loaded_model = pickle.load(open('classification.model', 'rb'))\n",
    "\n",
    "    # make a prediction\n",
    "    print(loaded_model.predict(loaded_vectorizer.transform([x])), 'Sterne')\n",
    "    \n",
    "Review('ich werde weiter emphelen')"
   ]
  },
  {
   "cell_type": "markdown",
   "metadata": {},
   "source": [
    "# Predicted : 5 Stars"
   ]
  },
  {
   "cell_type": "code",
   "execution_count": null,
   "metadata": {},
   "outputs": [],
   "source": []
  }
 ],
 "metadata": {
  "kernelspec": {
   "display_name": "Python 3",
   "language": "python",
   "name": "python3"
  },
  "language_info": {
   "codemirror_mode": {
    "name": "ipython",
    "version": 3
   },
   "file_extension": ".py",
   "mimetype": "text/x-python",
   "name": "python",
   "nbconvert_exporter": "python",
   "pygments_lexer": "ipython3",
   "version": "3.8.5"
  }
 },
 "nbformat": 4,
 "nbformat_minor": 4
}
