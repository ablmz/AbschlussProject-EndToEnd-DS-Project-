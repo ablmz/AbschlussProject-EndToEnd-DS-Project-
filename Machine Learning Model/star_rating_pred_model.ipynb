{
 "cells": [
  {
   "cell_type": "markdown",
   "metadata": {},
   "source": [
    "# Machine Learning Model with The Data of Clinics in Lower Saxony Germany"
   ]
  },
  {
   "cell_type": "markdown",
   "metadata": {},
   "source": [
    "#### The workflow of a Machine learning project includes all the steps required to build the proper machine learning project\n",
    "A Machine learning model is a piece of code; an engineer or data scientist makes it smart through training with data. The better you give to the model, the better result you will get. At the and the trained model will provide false or wrong predictions.\n",
    "\n",
    "We can define the machine learning workflow in 5 Steps.\n",
    "\n",
    "1. Gathering data\n",
    "2. Data pre-processing (cleaning data, Missing data,Noisy data, Inconsistent data)\n",
    "3. Training and testing the model\n",
    "4. Evaluation\n",
    "5. Prediction"
   ]
  },
  {
   "cell_type": "markdown",
   "metadata": {},
   "source": [
    "### Python Libraries that would be need"
   ]
  },
  {
   "cell_type": "code",
   "execution_count": 1,
   "metadata": {},
   "outputs": [],
   "source": [
    "import pandas as pd\n",
    "import numpy as np\n",
    "import pickle"
   ]
  },
  {
   "cell_type": "markdown",
   "metadata": {},
   "source": [
    "### 1. Gathering data\n",
    "The process of gathering data depends on the type of project we desire to make, in this Notebook we will work on Clinics Data with Text and Star Reviews of some Clinics in Lower Saxony Germany.\n",
    "We got the data from klinikbewertung and Google Maps with webscraping and used frameworks like Scrapy, BeatifulSoup and Selenium. You can also find the webscraping codes in this repository."
   ]
  },
  {
   "cell_type": "code",
   "execution_count": 2,
   "metadata": {},
   "outputs": [],
   "source": [
    "df=pd.read_csv(r'C:\\Users\\nutzer\\Desktop\\Projekt\\Final\\Webscrapping_Github\\Machine_Learning _Google_reviews\\ML_model\\alldata_klinikandgoogle.csv', encoding='utf-8')"
   ]
  },
  {
   "cell_type": "code",
   "execution_count": 3,
   "metadata": {},
   "outputs": [
    {
     "data": {
      "text/html": [
       "<div>\n",
       "<style scoped>\n",
       "    .dataframe tbody tr th:only-of-type {\n",
       "        vertical-align: middle;\n",
       "    }\n",
       "\n",
       "    .dataframe tbody tr th {\n",
       "        vertical-align: top;\n",
       "    }\n",
       "\n",
       "    .dataframe thead th {\n",
       "        text-align: right;\n",
       "    }\n",
       "</style>\n",
       "<table border=\"1\" class=\"dataframe\">\n",
       "  <thead>\n",
       "    <tr style=\"text-align: right;\">\n",
       "      <th></th>\n",
       "      <th>Name der Klinik</th>\n",
       "      <th>Textuelle Bewertung</th>\n",
       "      <th>Sternebewertung</th>\n",
       "    </tr>\n",
       "  </thead>\n",
       "  <tbody>\n",
       "    <tr>\n",
       "      <th>0</th>\n",
       "      <td>Augenklinik Dr.Hoffmann</td>\n",
       "      <td>Meine Laser OP grauer Star hat super geklappt....</td>\n",
       "      <td>6.0</td>\n",
       "    </tr>\n",
       "    <tr>\n",
       "      <th>1</th>\n",
       "      <td>Augenklinik Dr.Hoffmann</td>\n",
       "      <td>Bin sehr zufrieden gewesen mit der Klinik und ...</td>\n",
       "      <td>6.0</td>\n",
       "    </tr>\n",
       "    <tr>\n",
       "      <th>2</th>\n",
       "      <td>Augenklinik Dr.Hoffmann</td>\n",
       "      <td>Komptentes Ärzteteam.Strickte Einhaltung der C...</td>\n",
       "      <td>6.0</td>\n",
       "    </tr>\n",
       "    <tr>\n",
       "      <th>3</th>\n",
       "      <td>Augenklinik Dr.Hoffmann</td>\n",
       "      <td>Ich komme seit einen halben Jahr mit meiner be...</td>\n",
       "      <td>6.0</td>\n",
       "    </tr>\n",
       "    <tr>\n",
       "      <th>4</th>\n",
       "      <td>Augenklinik Dr.Hoffmann</td>\n",
       "      <td>Ich war Anfang November 2019 zur Augen-OP (Gra...</td>\n",
       "      <td>6.0</td>\n",
       "    </tr>\n",
       "  </tbody>\n",
       "</table>\n",
       "</div>"
      ],
      "text/plain": [
       "           Name der Klinik                                Textuelle Bewertung  \\\n",
       "0  Augenklinik Dr.Hoffmann  Meine Laser OP grauer Star hat super geklappt....   \n",
       "1  Augenklinik Dr.Hoffmann  Bin sehr zufrieden gewesen mit der Klinik und ...   \n",
       "2  Augenklinik Dr.Hoffmann  Komptentes Ärzteteam.Strickte Einhaltung der C...   \n",
       "3  Augenklinik Dr.Hoffmann  Ich komme seit einen halben Jahr mit meiner be...   \n",
       "4  Augenklinik Dr.Hoffmann  Ich war Anfang November 2019 zur Augen-OP (Gra...   \n",
       "\n",
       "   Sternebewertung  \n",
       "0              6.0  \n",
       "1              6.0  \n",
       "2              6.0  \n",
       "3              6.0  \n",
       "4              6.0  "
      ]
     },
     "execution_count": 3,
     "metadata": {},
     "output_type": "execute_result"
    }
   ],
   "source": [
    "df.head()"
   ]
  },
  {
   "cell_type": "code",
   "execution_count": 4,
   "metadata": {},
   "outputs": [
    {
     "data": {
      "text/plain": [
       "Name der Klinik        5236\n",
       "Textuelle Bewertung    5236\n",
       "Sternebewertung        5236\n",
       "dtype: int64"
      ]
     },
     "execution_count": 4,
     "metadata": {},
     "output_type": "execute_result"
    }
   ],
   "source": [
    "df.count()"
   ]
  },
  {
   "cell_type": "code",
   "execution_count": 5,
   "metadata": {},
   "outputs": [],
   "source": [
    "#df.sample(10)  # random data"
   ]
  },
  {
   "cell_type": "code",
   "execution_count": 6,
   "metadata": {},
   "outputs": [
    {
     "data": {
      "text/plain": [
       "6.0    1467\n",
       "5.0    1146\n",
       "0.0     838\n",
       "1.0     833\n",
       "4.0     541\n",
       "2.0     325\n",
       "3.0      86\n",
       "Name: Sternebewertung, dtype: int64"
      ]
     },
     "execution_count": 6,
     "metadata": {},
     "output_type": "execute_result"
    }
   ],
   "source": [
    "df['Sternebewertung'].value_counts()"
   ]
  },
  {
   "cell_type": "markdown",
   "metadata": {},
   "source": [
    "# TDIDF and Linear SVC algorithm"
   ]
  },
  {
   "cell_type": "code",
   "execution_count": 7,
   "metadata": {},
   "outputs": [],
   "source": [
    "from sklearn.feature_extraction.text import TfidfVectorizer\n",
    "from sklearn.model_selection import train_test_split\n",
    "from sklearn.svm import LinearSVC\n",
    "from sklearn.metrics import classification_report\n",
    "from sklearn.preprocessing import StandardScaler\n",
    "import sklearn\n",
    "from sklearn.pipeline import Pipeline"
   ]
  },
  {
   "cell_type": "markdown",
   "metadata": {},
   "source": [
    "#### Training and Testing Model\n"
   ]
  },
  {
   "cell_type": "code",
   "execution_count": 8,
   "metadata": {},
   "outputs": [],
   "source": [
    "tfidf = TfidfVectorizer(ngram_range=(1,5), analyzer='char')"
   ]
  },
  {
   "cell_type": "markdown",
   "metadata": {},
   "source": [
    "##### An important parameter that needs explanation is the ngram_range. An ngram of one means that you look at each word separately. An ngram of two (or bigram) means that you take the preceding and following word into account as well. Thus, some context is added. This is helpful because then a model can learn that \"good\" and \"not good\" are different. In our case, in addition to using each word by itself we also add bigrams to make use of context. Let's see some of the created ngrams and their indices:"
   ]
  },
  {
   "cell_type": "code",
   "execution_count": 9,
   "metadata": {},
   "outputs": [],
   "source": [
    "\n",
    "X = tfidf.fit_transform(df['Textuelle Bewertung'])\n",
    "\n",
    "Y = df['Sternebewertung']\n"
   ]
  },
  {
   "cell_type": "markdown",
   "metadata": {},
   "source": [
    "# Data training"
   ]
  },
  {
   "cell_type": "code",
   "execution_count": 10,
   "metadata": {},
   "outputs": [],
   "source": [
    "X_train, X_test, Y_train, Y_test = train_test_split(X,Y, test_size = 0.2, random_state = 1)"
   ]
  },
  {
   "cell_type": "code",
   "execution_count": 11,
   "metadata": {},
   "outputs": [
    {
     "data": {
      "text/plain": [
       "(4188, 293919)"
      ]
     },
     "execution_count": 11,
     "metadata": {},
     "output_type": "execute_result"
    }
   ],
   "source": [
    "X_train.shape"
   ]
  },
  {
   "cell_type": "code",
   "execution_count": 12,
   "metadata": {},
   "outputs": [],
   "source": [
    "clf =LinearSVC()   # C = 2, class_weight = 'balanced') # to balance the percentage\n",
    "clf =clf.fit(X_train, Y_train)"
   ]
  },
  {
   "cell_type": "code",
   "execution_count": 13,
   "metadata": {},
   "outputs": [],
   "source": [
    "Y_pred =clf.predict(X_test)"
   ]
  },
  {
   "cell_type": "code",
   "execution_count": 14,
   "metadata": {},
   "outputs": [
    {
     "name": "stdout",
     "output_type": "stream",
     "text": [
      "              precision    recall  f1-score   support\n",
      "\n",
      "         0.0       0.58      0.78      0.67       165\n",
      "         1.0       0.71      0.76      0.73       159\n",
      "         2.0       0.78      0.09      0.16        78\n",
      "         3.0       0.86      0.38      0.52        16\n",
      "         4.0       0.72      0.25      0.37       104\n",
      "         5.0       0.75      0.76      0.76       234\n",
      "         6.0       0.68      0.85      0.76       292\n",
      "\n",
      "    accuracy                           0.68      1048\n",
      "   macro avg       0.73      0.55      0.57      1048\n",
      "weighted avg       0.70      0.68      0.65      1048\n",
      "\n"
     ]
    }
   ],
   "source": [
    "print(classification_report(Y_test, Y_pred))"
   ]
  },
  {
   "cell_type": "markdown",
   "metadata": {},
   "source": [
    "### Model Accuracy 68%"
   ]
  },
  {
   "cell_type": "code",
   "execution_count": 15,
   "metadata": {},
   "outputs": [],
   "source": [
    "x='Notaufnahme gekommen wegen Herzproblemen. Alle nett und fachlich super.'"
   ]
  },
  {
   "cell_type": "code",
   "execution_count": 16,
   "metadata": {},
   "outputs": [
    {
     "name": "stdout",
     "output_type": "stream",
     "text": [
      "[5.] Sterne\n"
     ]
    }
   ],
   "source": [
    "#clf.predict(tfidf.transform(np.array([x])))\n",
    "\n",
    "print(clf.predict(tfidf.transform(np.array([x]))), \"Sterne\")"
   ]
  },
  {
   "cell_type": "markdown",
   "metadata": {},
   "source": [
    "##### 5 Stars - Predicted"
   ]
  },
  {
   "cell_type": "markdown",
   "metadata": {},
   "source": [
    "# Pickling - Python Object (saving a pickling file)"
   ]
  },
  {
   "cell_type": "code",
   "execution_count": 17,
   "metadata": {},
   "outputs": [],
   "source": [
    "pickle.dump(clf, open('a_model.pkl','wb'))"
   ]
  },
  {
   "cell_type": "markdown",
   "metadata": {},
   "source": [
    "# Unpickling - Python Object (loading a pickling file)"
   ]
  },
  {
   "cell_type": "code",
   "execution_count": 18,
   "metadata": {},
   "outputs": [],
   "source": [
    "loaded_model= pickle.load(open('a_model.pkl','rb'))"
   ]
  },
  {
   "cell_type": "code",
   "execution_count": 25,
   "metadata": {},
   "outputs": [],
   "source": [
    "z = 'Sehr schlecht Erfahrung'"
   ]
  },
  {
   "cell_type": "code",
   "execution_count": 26,
   "metadata": {},
   "outputs": [
    {
     "name": "stdout",
     "output_type": "stream",
     "text": [
      "[1.] Sterne\n"
     ]
    }
   ],
   "source": [
    "#clf.predict(tfidf.transform(np.array([z])))\n",
    "\n",
    "print (clf.predict(tfidf.transform(np.array([z]))), 'Sterne')"
   ]
  },
  {
   "cell_type": "markdown",
   "metadata": {},
   "source": [
    "##### 1 Stars - Predicted"
   ]
  }
 ],
 "metadata": {
  "kernelspec": {
   "display_name": "Python 3",
   "language": "python",
   "name": "python3"
  },
  "language_info": {
   "codemirror_mode": {
    "name": "ipython",
    "version": 3
   },
   "file_extension": ".py",
   "mimetype": "text/x-python",
   "name": "python",
   "nbconvert_exporter": "python",
   "pygments_lexer": "ipython3",
   "version": "3.8.5"
  }
 },
 "nbformat": 4,
 "nbformat_minor": 4
}
