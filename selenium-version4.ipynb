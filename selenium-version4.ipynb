{
 "cells": [
  {
   "cell_type": "code",
   "execution_count": 59,
   "metadata": {},
   "outputs": [],
   "source": [
    "from selenium import webdriver\n",
    "from selenium.webdriver.common.keys import Keys\n",
    "from selenium.webdriver.common.by import By\n",
    "from selenium.webdriver.support.ui import WebDriverWait\n",
    "from selenium.webdriver.support import expected_conditions as EC\n",
    "import time"
   ]
  },
  {
   "cell_type": "code",
   "execution_count": 60,
   "metadata": {},
   "outputs": [],
   "source": [
    "browser = webdriver.Chrome()\n",
    "browser.get(\"https://www.google.com/maps/place/Heidekreis-Klinikum+GmbH+Krankenhaus+Soltau/@52.9894444,9.8538571,17z/data=!3m1!4b1!4m5!3m4!1s0x47b1b4a9c8490efd:0x84c503db0d929dd1!8m2!3d52.9894412!4d9.8560458\")\n",
    "try:\n",
    "    WebDriverWait(browser, 10).until(\n",
    "        EC.frame_to_be_available_and_switch_to_it((By.XPATH, \"//iframe\")))\n",
    "    agree = WebDriverWait(browser, 10).until(EC.element_to_be_clickable(\n",
    "        (By.XPATH, '//*[@id=\"introAgreeButton\"]/span/span')))\n",
    "    agree.click()\n",
    "except:\n",
    "    browser.quit()\n",
    "    \n",
    "time.sleep(1)\n",
    "browser.maximize_window()"
   ]
  },
  {
   "cell_type": "code",
   "execution_count": 61,
   "metadata": {},
   "outputs": [
    {
     "name": "stdout",
     "output_type": "stream",
     "text": [
      "Heidekreis-Klinikum GmbH Krankenhaus Soltau\n"
     ]
    }
   ],
   "source": [
    "klinik_name = browser.find_element_by_xpath('//*[@id=\"pane\"]/div/div[1]/div/div/div[2]/div[1]/div[1]/div[1]/h1/span[1]').text\n",
    "print(klinik_name)"
   ]
  },
  {
   "cell_type": "code",
   "execution_count": 63,
   "metadata": {},
   "outputs": [
    {
     "name": "stdout",
     "output_type": "stream",
     "text": [
      "   1   times scroll\n",
      "   2   times scroll\n",
      "   3   times scroll\n",
      "   4   times scroll\n",
      "   5   times scroll\n",
      "   6   times scroll\n",
      "   7   times scroll\n",
      "   8   times scroll\n",
      "   9   times scroll\n",
      "   10   times scroll\n",
      "   11   times scroll\n",
      "   12   times scroll\n",
      "   13   times scroll\n",
      "   14   times scroll\n",
      "end if statement\n"
     ]
    }
   ],
   "source": [
    "def scroll_review():\n",
    "\tx=1\n",
    "\twhile (x < 15):\n",
    "\t\tscrollable_div = browser.find_element_by_css_selector('div.section-layout.section-scrollbox.scrollable-y.scrollable-show') # It gets the section of the scroll bar.\n",
    "\t\tprint( '  ', x, '  times scroll')\n",
    "\t\ttime.sleep(3)\n",
    "\t\tbrowser.execute_script(\"arguments[0].scrollTop = arguments[0].scrollHeight\", scrollable_div) # Scroll it to the bottom.\n",
    "\t\tx=x+1\n",
    "\n",
    "\telse:\t\n",
    "\t\tprint('end if statement')\n",
    "\n",
    "\n",
    "# RECALLNG SCROLL FUNCTION\n",
    "scroll_review()"
   ]
  },
  {
   "cell_type": "code",
   "execution_count": 64,
   "metadata": {},
   "outputs": [],
   "source": [
    "commentsGesamt=browser.find_elements_by_xpath('//div[@class=\"section-review-content\"]')"
   ]
  },
  {
   "cell_type": "code",
   "execution_count": 65,
   "metadata": {},
   "outputs": [
    {
     "name": "stdout",
     "output_type": "stream",
     "text": [
      "Prinzess M\n",
      "1 Rezension\n",
      "vor 3 Wochen\n",
      "Großes Lob an das Notaufnahme Team von heute Nacht . Mein kleiner Sohn hatte über 39 Fieber Husten usw. Trotz das es keine Kinderstation gibt haben sie ihn abgehört und beraten. Mega tolle Ärztin lange nicht mehr so ein nettes Team gesehen.\n",
      "Gefällt mir\n",
      "Teilen\n",
      "-------\n",
      "Pepper\n",
      "33 Rezensionen\n",
      "vor 2 Tagen\n",
      "Vielen Dank an das Team und Herrn Förster für die kompetente Behandlung und Beratung in der Notaufnahme. Wir hoffen, dass Sie noch eine ruhige Nacht hatten.\n",
      "Gefällt mir\n",
      "Teilen\n",
      "-------\n",
      "Marvin Rndm\n",
      "6 Rezensionen\n",
      "vor 6 Monaten\n",
      "Nettes Personal und natürlich hat jeder mal ein schlechten Tag ,aber Mitarbeiter versuchen freundlich zu sein. Anders als Patienten ,oder Besucher die denken das Krankenhauspersonal seien Diener die sofort für eine Person dabei sein müssen. …\n",
      "Mehr\n",
      "Gefällt mir\n",
      "Teilen\n",
      "-------\n",
      "Timo Fabricius\n",
      "Local Guide ・39 Rezensionen\n",
      "vor einem Monat\n",
      "Was stimmt mit euch nicht? Einen mittelschwer Demenzerkrankten erst nicht ergebnisorientiert untersuchen, dann Ergebnisse nicht an die Frau übergeben, aber ohne ihr Wissen ihn in die kurzzeitpflege bringen. Außer der Geburt unseres Sohnes …\n",
      "Mehr\n",
      "Gefällt mir\n",
      "Teilen\n",
      "-------\n",
      "Tatiana Gor.\n",
      "3 Rezensionen\n",
      "vor einer Woche\n",
      "Ganz ganz schwach! Wartezeit über 3 std ...\n",
      "Gefällt mir\n",
      "Teilen\n",
      "-------\n",
      "L M\n",
      "Local Guide ・48 Rezensionen\n",
      "vor 2 Monaten\n",
      "Das Team in der Notaufnahme, die Pfleger vorallem sind super,sehr freundlich ,erklärend und besonnen im Umgang mit ihren Patienten\n",
      "Gefällt mir\n",
      "Teilen\n",
      "-------\n",
      "RoKa\n",
      "61 Rezensionen\n",
      "vor 2 Monaten\n",
      "Als aller erstes möchte ich die sehr netten Mitarbeiter/-innen loben, die trotz Personalmangel wirklich alles geben und immer noch freundlich sind! Fühlte mich diesbezüglich gut aufgehoben. Einzig bei der Zuteilung meines Arztes zur …\n",
      "Mehr\n",
      "1\n",
      "Teilen\n",
      "-------\n",
      "Natali Christoffer\n",
      "3 Rezensionen\n",
      "vor 3 Monaten\n",
      "Ich war in der Notaufnahme und bin begeistert von dem super Team dort. Alle trotz viel Arbeit sehr freundlich und aufmerksam.\n",
      "1\n",
      "Teilen\n",
      "-------\n",
      "Hilke Kohlmeyer\n",
      "1 Rezension\n",
      "vor 4 Monaten\n",
      "Sehr empfehlenswert! !!\n",
      "Hatte mir das Sprunggelenk gebrochen.\n",
      "Von der Notaufnahme über die OP bis hin zur Entlassung befand ich mich in guten Händen.\n",
      "Kompetente, hörfähiges Ärzte, die sich Zeit nehmen. Freundliches, empathisches und engagiertes Pflegepersonal.\n",
      "Gefällt mir\n",
      "Teilen\n",
      "-------\n",
      "Graff Natalija\n",
      "Local Guide ・21 Rezensionen\n",
      "vor einem Monat\n",
      "Ich bin gestern Abend in die Notaufnahme durch Autounfall gelandet und möchte mich dem Team bedanken! Schöne Grüße an allen und vielen vielen Dank 🙏🙏🙏\n",
      "Gefällt mir\n",
      "Teilen\n",
      "-------\n"
     ]
    }
   ],
   "source": [
    "for c in commentsGesamt:\n",
    "    print(c.text)\n",
    "    print(\"-------\")"
   ]
  },
  {
   "cell_type": "code",
   "execution_count": 27,
   "metadata": {},
   "outputs": [
    {
     "data": {
      "text/plain": [
       "67"
      ]
     },
     "execution_count": 27,
     "metadata": {},
     "output_type": "execute_result"
    }
   ],
   "source": [
    "len(commentsGesamt)"
   ]
  },
  {
   "cell_type": "code",
   "execution_count": 68,
   "metadata": {},
   "outputs": [],
   "source": [
    "comments=browser.find_elements_by_xpath('//span[@class=\"section-review-text\"]')"
   ]
  },
  {
   "cell_type": "code",
   "execution_count": 69,
   "metadata": {},
   "outputs": [
    {
     "data": {
      "text/plain": [
       "67"
      ]
     },
     "execution_count": 69,
     "metadata": {},
     "output_type": "execute_result"
    }
   ],
   "source": [
    "len(comments) "
   ]
  },
  {
   "cell_type": "code",
   "execution_count": 70,
   "metadata": {},
   "outputs": [
    {
     "name": "stdout",
     "output_type": "stream",
     "text": [
      "Großes Lob an das Notaufnahme Team von heute Nacht . Mein kleiner Sohn hatte über 39 Fieber Husten usw. Trotz das es keine Kinderstation gibt haben sie ihn abgehört und beraten. Mega tolle Ärztin lange nicht mehr so ein nettes Team gesehen.\n",
      "-------\n",
      "Vielen Dank an das Team und Herrn Förster für die kompetente Behandlung und Beratung in der Notaufnahme. Wir hoffen, dass Sie noch eine ruhige Nacht hatten.\n",
      "-------\n",
      "Nettes Personal und natürlich hat jeder mal ein schlechten Tag ,aber Mitarbeiter versuchen freundlich zu sein. Anders als Patienten ,oder Besucher die denken das Krankenhauspersonal seien Diener die sofort für eine Person dabei sein müssen. …\n",
      "-------\n",
      "Was stimmt mit euch nicht? Einen mittelschwer Demenzerkrankten erst nicht ergebnisorientiert untersuchen, dann Ergebnisse nicht an die Frau übergeben, aber ohne ihr Wissen ihn in die kurzzeitpflege bringen. Außer der Geburt unseres Sohnes …\n",
      "-------\n",
      "Ganz ganz schwach! Wartezeit über 3 std ...\n",
      "-------\n",
      "Das Team in der Notaufnahme, die Pfleger vorallem sind super,sehr freundlich ,erklärend und besonnen im Umgang mit ihren Patienten\n",
      "-------\n",
      "Als aller erstes möchte ich die sehr netten Mitarbeiter/-innen loben, die trotz Personalmangel wirklich alles geben und immer noch freundlich sind! Fühlte mich diesbezüglich gut aufgehoben. Einzig bei der Zuteilung meines Arztes zur …\n",
      "-------\n",
      "Ich war in der Notaufnahme und bin begeistert von dem super Team dort. Alle trotz viel Arbeit sehr freundlich und aufmerksam.\n",
      "-------\n",
      "Sehr empfehlenswert! !!\n",
      "Hatte mir das Sprunggelenk gebrochen.\n",
      "Von der Notaufnahme über die OP bis hin zur Entlassung befand ich mich in guten Händen.\n",
      "Kompetente, hörfähiges Ärzte, die sich Zeit nehmen. Freundliches, empathisches und engagiertes Pflegepersonal.\n",
      "-------\n",
      "Ich bin gestern Abend in die Notaufnahme durch Autounfall gelandet und möchte mich dem Team bedanken! Schöne Grüße an allen und vielen vielen Dank 🙏🙏🙏\n",
      "-------\n",
      "Ich mache es kurz.\n",
      "Falls Sie trotz Akutfall noch die Wahl haben, vll lieber etwas weiter in eine Fachklinik fahren.\n",
      "Die Mitarbeiter jedoch waren freundlich.\n",
      "-------\n",
      "Niemand fühlt sich für einen verantwortlich. An der Rezeption wird man pampig und von oben herab behandelt obwohl sie nicht mal in der Lage sind einfachste Dinge wie die Telefonnummer der Radiologie rauszusuchen, oder wollten es nicht …\n",
      "-------\n",
      "Leider muss ich einen Stern geben  verdient  ist er aber auf keinen Fall!!! Sehr unfreundliches Personal, auf Nachfragen bekommt man nur unhöfliche Antworten.  Es werden einem falsche Diagnosen vermittelt und einen Arzt bekommt man nie zu Gesicht. Nie wieder dieses Krankenhaus!!!!\n",
      "-------\n",
      "Mein Mann wurde mit RTW eingeliefert mit dem Verdacht auf Herzinfarkt. Dieses bestätigte sich nach Ultraschall und Blutabnahme. Die Werte waren sehr stark erhöht!. Einen Tag später war es auf einmal gar nichts mehr. Und warum? Weil sie da …\n",
      "-------\n",
      "Gestern Abend nach einem Unfall in der Notaufnahme gewesen, um auszuschließen das mein Arm gebrochen ist. Angemeldet und hin gesetzt. Ich saß 3 Stunden im Wartezimmer, dann kam ein Vater und Sohn mit einer Zecke. Die setzten sich hin und …\n",
      "-------\n",
      "Leider nicht zu empfehlen. Bei der Aufnahme durch den Notarztwagen wurde bei der Aufnahme unsauber gearbeitet (Unfallaufnahme unvollständig und fehlerhaft/ konnte im Nachherein auch nicht korrigiert werden). An der Information wurde man …\n",
      "-------\n",
      "Wir waren im Urlaub in der Lüneburger Heide, unser Sohn hat sich den Unterarm gebrochen. Wir wurden stationär aufgenommen, weil sein operiert werden musste. Ob es die Ärzte oder die Schwestern waren. Wir sind von allen so was von …\n",
      "-------\n",
      "Ende Mai in die Notaufnahme gekommen. Nierenkolik. Unglaublich unfreundlicher Krankenpfleger (?), der mich anschrie, dass ich mich zusammenreißen solle. Habe mir leider den Namen nicht gemerkt. Alkoholisiert? Wurde dann nach ROW transportiert. Gott sei Dank.\n",
      "-------\n",
      "Es ist schon eine Erfahrung wert Mal hier gewesen zu sein.\n",
      "Bringen Sie viel Zeit mit. Denn wenn es nicht um Leben und Tod geht, werden Sie erst einmal lange warten...\n",
      "Die lange Wartezeiten bringen Unmut und mehr mit. Man kann sich dann aber …\n",
      "-------\n",
      "Ich bin entsetzt. Verdacht auf Sprunggelenkfraktur an der Innenseite, 3 Std. warten, 10 min behandelt. Alles umsonst, da die Schwester beim Röntgen das falsche Gelenk geröntgt hat und als man sie darauf hinweisen wollte, bekommt man eine …\n",
      "-------\n",
      "Schnelle, kompetente Hilfe, Ärzte und Pflege fachlich top, Alle super nett, Küche unerwartet gut, Abläufe unproblematisch, bin sehr zufrieden!\n",
      "-------\n",
      "Von dem Krankenwagen-Personal über das  Pflege -Personal bis hin zu den Ärzten ein Reinfall.  Unfreundlich und wenig Professionalität wird an den Tag gelegt. Keine Werbung für ein Krankenhaus, das für Kunden wirbt.\n",
      "-------\n",
      "Im Heidekreis ist die ärztliche Situation grauenhaft! Als zugezogene haben wir in Munster wohnhaft bis heute keinen Hausarzt gefunden. Also blieb nur das Heidekreis Klinikum von dem wir nicht viel gutes hörten. Da kein Auto vorhanden dachte …\n",
      "-------\n",
      "Auf Station waren die Schwestern sehr bemüht, trotz zu wenig Personal. Endlassung am Montag abends ohne Endlassungsbrief - Medikamente erst auf Nachfrage und bitte. Versprechen das der Bericht am Dienstag zum Arzt gefaxt wird, leider nicht erfolgt.\n",
      "-------\n",
      "Bis auf eine Schwester die sich für etwas besseres hielt, waren alle anderen super nett und hilfsbereit .Als ich nach ihrem Namen fragte um mich über sie zu beschweren, drehte sie sich schweigend  ab und verschwand. .Es gibt halt Berufe …\n",
      "-------\n",
      "Verdacht auf Thrombose, trotzdem 5 Stunden gewartet in der Notfallambulanz, weil Notfälle Vorrang haben..... Ohne Worte\n",
      "-------\n",
      "Ein Stern ist noch zu viel. Da verbrennt sich ein Baby und hat tierische Blasen an der Hand. Man fährt in die Notaufnahme vom Heideklinikum Soltau und wird eine Std. auf die Wartebank gesetzt da es angeblich kein Notfall ist. Als nach einer …\n",
      "-------\n",
      "Total toller Arzt!!! Super kompetent und hat sich trotz \"Feierabend\" lange Zeit für mich genommen.\n",
      "Die Dame an der Anmeldung hingegen unmöglich!!! Ein unmögliches Verhalten gegenüber Patienten die ja nur zum Spaß in den Bereitschaftsdienst kommen...\n",
      "Hier wäre es ratsam die Berufswahl zu überdenken!\n",
      "-------\n",
      "Auch hier macht sich die Privatisierung negativ bemerkbar. Ich bin damals in diesem Krankenhaus zur Welt gekommen und bin noch eine \"in Soltau-Geborene\". Die Ärzte sind nach wie vor top muss ich dazu sagen. Aber hier wird unnötig …\n",
      "-------\n",
      "Inkompetentes und unglaublich unfreundliches Personal. Schwestern antworten bei Fragen kurz angebunden und schnippisch, gehen dabei einfach weiter und beenden damit einfach so das Gespräch. Fragen wurden somit nicht beantwortet. Diagnosen …\n",
      "-------\n",
      "Asozial!\n",
      "Ich wurde von einem tier gebissen wollte hilfe und die sagen zu mir ne tut mir leid wir können ihnen nicht helfen fahren sie mal nach walsrode. Unverschämt finde ich sowas das man sich nicht mals die biss wunde anschaut und eventuell auch reinigt..\n",
      "Dieses Krankenhaus wird mich nicht mal mehr von hinten sehen!\n",
      "-------\n",
      "Als Privatpatient 3 Stunden Wartezeit ohne Behandlung\n",
      "-------\n",
      "Ich war heute in der Notaufnahme.  Die Dame an der Anmeldung war sehr nett und Dr.Kanu und sein Team waren super freundlich! Toller, cooler Arzt!\n",
      "-------\n",
      "In der Notaufnahme arbeitet ein kompetentes Pflegeteam mit rettungsdienstlicher und intensivmedizinischer Erfahrung. Ein Triagesystem erlaubt dem diensthabenden Arzt in der Notaufnahme eine präzise und fallspezifische Notfallbehandlung nach Priorität der Schwere der Erkrankung der eingelieferten Patienten.\n",
      "-------\n",
      "Gut ist was anderes. Schade das der Landkreis es untergehen lassen will.Wir brauchen eine gute Grundversorgung\n",
      "-------\n",
      "Meine Frau wurde im Februar  2018 mit Beschwerden am Herz aufgenommen. Ihr wurde in der Kardiologischen Abteilung ein Herzkatheter gelegt. Bei diesem Eingriff wurden ihre inneren Gefäße so verletzt das sie daran verblutet und gestorben ist. …\n",
      "-------\n",
      "Physiotherapeut war sehr freundlich  und hat mir sehr geholfen.  Krankenhaus an sich ist sehr gruselig und kommt einem verlassen vor.\n",
      "-------\n",
      "Unglaublich schlechtes Personal. Das Krankenhaus muss sofort abegeschafft werden. Wie kann man es zulassen, dass Patienten wedee enstgenommen noch gut behandelt werden. Unglaublich so etwas !!!!!\n",
      "-------\n",
      "ich finde dass Heidekreis KLinikum Soltau sehr gut es gibt sehr viele und sehr gute Ärzte und Schwestern. Parkplätze sind auch sehr viele vorhanden wobei man beachten muss das es dort öfters zu Unfällen kommt. Die Notaufnahme ist groß und …\n",
      "-------\n",
      "Vor kurzem war ich im Krankenhaus. Es his es sei nicht Relevant das ich gekommen wäre. Es wäre nicht Nötig mich zu behandeln weil ich ja angeblich keine schmerzen habe. Siehe bis jetzt habe ich Ohrenprobleme. Haben mich einfach raus …\n",
      "-------\n",
      "Schon traurig das man sich selbst entlassen muss, damit man mit einem Facharzt sprechen kann und der die richtige Diagnose stellt und man mit Medikamenten richtig eingestellt wird.\n",
      "Aussage vom krakenhaus: Donnerstag am Dienstag kommt ein …\n",
      "-------\n",
      "Besitzt neuerdings keine Chirurgie! LÄCHERLICH!!! Ihr spart auf Kosten der Bürgerinnen und Bürger, denen ihr eigentlich dienen wollt!\n",
      "-------\n",
      "Ich wurde nach einem Sturz Unfallchirurgisch aufgenommen. Die Schwestern sind unfreundlich und rabiat. Eine Schwester war wirklich nett, aber sie wurde von ihren Kollegen regelrecht gemobbt. In der Reha habe ich dann von mehreren Schwestern …\n",
      "-------\n",
      "An die Station 2c\n",
      "\n",
      "Ich möchte mich auf diesem wege noch einmal für die gute Behandlung in Ihrem Krankenkaus bedanken. Vor allem aber bei Dr. Mathews, der eine tolle Arbeit gemacht hat. Ich hätte nie gedacht, daß ich nach einer Woche schon …\n",
      "-------\n",
      "Abgewiesen ohne sich meine sehr schmerzhafte entzündete Wunde anzusehen.\n",
      "-------\n",
      "Unglaublich unfreundliches Personal.\n",
      "-------\n",
      "Mein geburtsort 😁\n",
      "-------\n",
      "Die Gipser sind schlecht\n",
      "-------\n",
      "\n",
      "-------\n",
      "\n",
      "-------\n",
      "\n",
      "-------\n",
      "\n",
      "-------\n"
     ]
    },
    {
     "name": "stdout",
     "output_type": "stream",
     "text": [
      "\n",
      "-------\n",
      "\n",
      "-------\n",
      "\n",
      "-------\n",
      "\n",
      "-------\n",
      "\n",
      "-------\n",
      "\n",
      "-------\n",
      "\n",
      "-------\n",
      "\n",
      "-------\n",
      "\n",
      "-------\n",
      "\n",
      "-------\n",
      "\n",
      "-------\n",
      "\n",
      "-------\n",
      "\n",
      "-------\n",
      "\n",
      "-------\n",
      "\n",
      "-------\n"
     ]
    }
   ],
   "source": [
    "for comment in comments:\n",
    "    print(comment.text)\n",
    "    print(\"-------\")"
   ]
  },
  {
   "cell_type": "code",
   "execution_count": 71,
   "metadata": {},
   "outputs": [],
   "source": [
    "titles=browser.find_elements_by_xpath(\"//div[@class='section-review-title']\")"
   ]
  },
  {
   "cell_type": "code",
   "execution_count": 72,
   "metadata": {},
   "outputs": [
    {
     "data": {
      "text/plain": [
       "67"
      ]
     },
     "execution_count": 72,
     "metadata": {},
     "output_type": "execute_result"
    }
   ],
   "source": [
    "len(titles)"
   ]
  },
  {
   "cell_type": "code",
   "execution_count": 73,
   "metadata": {},
   "outputs": [
    {
     "name": "stdout",
     "output_type": "stream",
     "text": [
      "Prinzess M\n",
      "-----------\n",
      "Pepper\n",
      "-----------\n",
      "Marvin Rndm\n",
      "-----------\n",
      "Timo Fabricius\n",
      "-----------\n",
      "Tatiana Gor.\n",
      "-----------\n",
      "L M\n",
      "-----------\n",
      "RoKa\n",
      "-----------\n",
      "Natali Christoffer\n",
      "-----------\n",
      "Hilke Kohlmeyer\n",
      "-----------\n",
      "Graff Natalija\n",
      "-----------\n",
      "C C\n",
      "-----------\n",
      "Aldina\n",
      "-----------\n",
      "Meike Sche.\n",
      "-----------\n",
      "Miriam Rakosi\n",
      "-----------\n",
      "Elena Göbel\n",
      "-----------\n",
      "Mi Wa\n",
      "-----------\n",
      "Doreen Franz\n",
      "-----------\n",
      "Andre Wesche\n",
      "-----------\n",
      "Moe\n",
      "-----------\n",
      "Marie 2210\n",
      "-----------\n",
      "Aja Heydeck\n",
      "-----------\n",
      "Sascha Mildner\n",
      "-----------\n",
      "Petra Luer\n",
      "-----------\n",
      "Heike Baden\n",
      "-----------\n",
      "Frank Börger\n",
      "-----------\n",
      "Nicole Brunahl\n",
      "-----------\n",
      "DrDroste\n",
      "-----------\n",
      "Gab Vog\n",
      "-----------\n",
      "AntiKuschelweich\n",
      "-----------\n",
      "A. Horst\n",
      "-----------\n",
      "Angelina Lerbs\n",
      "-----------\n",
      "WILLI Borgmann\n",
      "-----------\n",
      "Ka Za\n",
      "-----------\n",
      "Martin Freitag\n",
      "-----------\n",
      "Ulrich Haffner\n",
      "-----------\n",
      "Alfred Milker\n",
      "-----------\n",
      "Mike Ostwald\n",
      "-----------\n",
      "Ella Bella\n",
      "-----------\n",
      "Daniel Koschmann\n",
      "-----------\n",
      "sahu 1407\n",
      "-----------\n",
      "Luise klein\n",
      "-----------\n",
      "Max\n",
      "-----------\n",
      "Kiki M\n",
      "-----------\n",
      "Andreas Treptow\n",
      "-----------\n",
      "Irene Stein\n",
      "-----------\n",
      "Paulina\n",
      "-----------\n",
      "keiner_macht mich_mehr_an\n",
      "-----------\n",
      "Maxes & Marvex\n",
      "-----------\n",
      "Peter Greiner\n",
      "-----------\n",
      "Tanja Wesseloh\n",
      "-----------\n",
      "Gudrun Hendel\n",
      "-----------\n",
      "King Consul\n",
      "-----------\n",
      "Christopher Klenner\n",
      "-----------\n",
      "خالق سلطانی\n",
      "-----------\n",
      "Bella Bat Pony\n",
      "-----------\n",
      "V A\n",
      "-----------\n",
      "JÜRGEN Simon\n",
      "-----------\n",
      "Frederik Wiechers\n",
      "-----------\n",
      "Juliana S\n",
      "-----------\n",
      "Angelique\n",
      "-----------\n",
      "Merve Leschke-Goessler\n",
      "-----------\n",
      "Felix Geis\n",
      "-----------\n",
      "Marcel Kuhn\n",
      "-----------\n",
      "Jannis Grulke\n",
      "-----------\n",
      "R. K.\n",
      "-----------\n",
      "pales86 Id\n",
      "-----------\n",
      "Daniel Kerti\n",
      "-----------\n"
     ]
    }
   ],
   "source": [
    "for title in titles:\n",
    "    print(title.text)\n",
    "    print(\"-----------\")"
   ]
  },
  {
   "cell_type": "code",
   "execution_count": 74,
   "metadata": {},
   "outputs": [],
   "source": [
    "datums=browser.find_elements_by_xpath(\"//span[@class='section-review-publish-date']\")"
   ]
  },
  {
   "cell_type": "code",
   "execution_count": 75,
   "metadata": {},
   "outputs": [
    {
     "data": {
      "text/plain": [
       "67"
      ]
     },
     "execution_count": 75,
     "metadata": {},
     "output_type": "execute_result"
    }
   ],
   "source": [
    "len(datums)"
   ]
  },
  {
   "cell_type": "code",
   "execution_count": 76,
   "metadata": {},
   "outputs": [
    {
     "name": "stdout",
     "output_type": "stream",
     "text": [
      "vor 3 Wochen\n",
      "vor 2 Tagen\n",
      "vor 6 Monaten\n",
      "vor einem Monat\n",
      "vor einer Woche\n",
      "vor 2 Monaten\n",
      "vor 2 Monaten\n",
      "vor 3 Monaten\n",
      "vor 4 Monaten\n",
      "vor einem Monat\n",
      "vor 5 Monaten\n",
      "vor 5 Monaten\n",
      "vor 7 Monaten\n",
      "vor 8 Monaten\n",
      "vor 7 Monaten\n",
      "vor 8 Monaten\n",
      "vor 9 Monaten\n",
      "vor 8 Monaten\n",
      "vor einem Jahr\n",
      "vor einem Jahr\n",
      "vor einem Jahr\n",
      "vor einem Jahr\n",
      "vor einem Jahr\n",
      "vor einem Jahr\n",
      "vor 2 Jahren\n",
      "vor einem Jahr\n",
      "vor einem Jahr\n",
      "vor 4 Jahren\n",
      "vor 2 Jahren\n",
      "vor 2 Jahren\n",
      "vor einem Jahr\n",
      "vor einem Jahr\n",
      "vor 3 Jahren\n",
      "vor 2 Jahren\n",
      "vor 3 Jahren\n",
      "vor 2 Jahren\n",
      "vor 2 Jahren\n",
      "vor 3 Jahren\n",
      "vor 3 Jahren\n",
      "vor 3 Jahren\n",
      "vor 3 Jahren\n",
      "vor 3 Jahren\n",
      "vor 3 Jahren\n",
      "vor 4 Jahren\n",
      "vor 3 Jahren\n",
      "vor 2 Jahren\n",
      "vor 3 Jahren\n",
      "vor 4 Jahren\n",
      "vor einem Jahr\n",
      "vor 3 Jahren\n",
      "vor einem Jahr\n",
      "vor 8 Monaten\n",
      "vor 2 Jahren\n",
      "vor 3 Jahren\n",
      "vor 4 Jahren\n",
      "vor 4 Monaten\n",
      "vor 2 Jahren\n",
      "vor 2 Jahren\n",
      "vor 3 Jahren\n",
      "vor 4 Jahren\n",
      "vor 2 Jahren\n",
      "vor einem Jahr\n",
      "vor 4 Jahren\n",
      "vor 2 Jahren\n",
      "vor einem Jahr\n",
      "vor 8 Monaten\n",
      "vor einem Jahr\n"
     ]
    }
   ],
   "source": [
    "for datum in datums:\n",
    "    print(datum.text)"
   ]
  },
  {
   "cell_type": "code",
   "execution_count": 38,
   "metadata": {},
   "outputs": [],
   "source": [
    "likes=browser.find_elements_by_xpath('//span[@class=\"section-review-interactions-label\"]')"
   ]
  },
  {
   "cell_type": "code",
   "execution_count": 39,
   "metadata": {},
   "outputs": [
    {
     "data": {
      "text/plain": [
       "96"
      ]
     },
     "execution_count": 39,
     "metadata": {},
     "output_type": "execute_result"
    }
   ],
   "source": [
    "len(likes)"
   ]
  },
  {
   "cell_type": "code",
   "execution_count": 40,
   "metadata": {},
   "outputs": [
    {
     "name": "stdout",
     "output_type": "stream",
     "text": [
      "Gefällt mir\n",
      "Teilen\n",
      "Gefällt mir\n",
      "Teilen\n",
      "Gefällt mir\n",
      "Teilen\n",
      "Gefällt mir\n",
      "Teilen\n",
      "Gefällt mir\n",
      "Teilen\n",
      "Gefällt mir\n",
      "Teilen\n",
      "1\n",
      "Teilen\n",
      "1\n",
      "Teilen\n",
      "Gefällt mir\n",
      "Teilen\n",
      "Gefällt mir\n",
      "Teilen\n",
      "1\n",
      "Teilen\n",
      "1\n",
      "Teilen\n",
      "5\n",
      "Teilen\n",
      "Gefällt mir\n",
      "Teilen\n",
      "2\n",
      "Teilen\n",
      "2\n",
      "Teilen\n",
      "1\n",
      "Teilen\n",
      "3\n",
      "Teilen\n",
      "1\n",
      "Teilen\n",
      "5\n",
      "Teilen\n",
      "Gefällt mir\n",
      "Teilen\n",
      "1\n",
      "Teilen\n",
      "1\n",
      "Teilen\n",
      "Gefällt mir\n",
      "Teilen\n",
      "Gefällt mir\n",
      "Teilen\n",
      "1\n",
      "Teilen\n",
      "2\n",
      "Teilen\n",
      "Gefällt mir\n",
      "Teilen\n",
      "1\n",
      "Teilen\n",
      "8\n",
      "Teilen\n",
      "6\n",
      "Teilen\n",
      "2\n",
      "Teilen\n",
      "2\n",
      "Teilen\n",
      "2\n",
      "Teilen\n",
      "6\n",
      "Teilen\n",
      "12\n",
      "Teilen\n",
      "1\n",
      "Teilen\n",
      "3\n",
      "Teilen\n",
      "Gefällt mir\n",
      "Teilen\n",
      "2\n",
      "Teilen\n",
      "3\n",
      "Teilen\n",
      "1\n",
      "Teilen\n",
      "5\n",
      "Teilen\n",
      "4\n",
      "Teilen\n",
      "2\n",
      "Teilen\n",
      "3\n",
      "Teilen\n",
      "Gefällt mir\n",
      "Teilen\n",
      "Gefällt mir\n",
      "Teilen\n"
     ]
    }
   ],
   "source": [
    "for like in likes:\n",
    "    print(like.text)"
   ]
  },
  {
   "cell_type": "code",
   "execution_count": 48,
   "metadata": {},
   "outputs": [],
   "source": [
    "likes_=[]\n",
    "counter=0\n",
    "for like in likes:\n",
    "    if counter%2==0:\n",
    "        likes_.append(like.text)\n",
    "    counter+=1\n",
    "    "
   ]
  },
  {
   "cell_type": "code",
   "execution_count": 49,
   "metadata": {},
   "outputs": [
    {
     "name": "stdout",
     "output_type": "stream",
     "text": [
      "Gefällt mir\n",
      "Gefällt mir\n",
      "Gefällt mir\n",
      "Gefällt mir\n",
      "Gefällt mir\n",
      "Gefällt mir\n",
      "1\n",
      "1\n",
      "Gefällt mir\n",
      "Gefällt mir\n",
      "1\n",
      "1\n",
      "5\n",
      "Gefällt mir\n",
      "2\n",
      "2\n",
      "1\n",
      "3\n",
      "1\n",
      "5\n",
      "Gefällt mir\n",
      "1\n",
      "1\n",
      "Gefällt mir\n",
      "Gefällt mir\n",
      "1\n",
      "2\n",
      "Gefällt mir\n",
      "1\n",
      "8\n",
      "6\n",
      "2\n",
      "2\n",
      "2\n",
      "6\n",
      "12\n",
      "1\n",
      "3\n",
      "Gefällt mir\n",
      "2\n",
      "3\n",
      "1\n",
      "5\n",
      "4\n",
      "2\n",
      "3\n",
      "Gefällt mir\n",
      "Gefällt mir\n"
     ]
    }
   ],
   "source": [
    "for lk in likes_:\n",
    "    print(lk)"
   ]
  },
  {
   "cell_type": "code",
   "execution_count": 50,
   "metadata": {},
   "outputs": [
    {
     "data": {
      "text/plain": [
       "48"
      ]
     },
     "execution_count": 50,
     "metadata": {},
     "output_type": "execute_result"
    }
   ],
   "source": [
    "len(likes_)"
   ]
  },
  {
   "cell_type": "code",
   "execution_count": 56,
   "metadata": {},
   "outputs": [],
   "source": [
    "likesList=[]\n",
    "for like in likes_:\n",
    "    like_=like.replace(\"Gefällt mir\", \"0\")\n",
    "    likesList.append(like_)\n",
    "    "
   ]
  },
  {
   "cell_type": "code",
   "execution_count": 57,
   "metadata": {},
   "outputs": [
    {
     "name": "stdout",
     "output_type": "stream",
     "text": [
      "0\n",
      "0\n",
      "0\n",
      "0\n",
      "0\n",
      "0\n",
      "1\n",
      "1\n",
      "0\n",
      "0\n",
      "1\n",
      "1\n",
      "5\n",
      "0\n",
      "2\n",
      "2\n",
      "1\n",
      "3\n",
      "1\n",
      "5\n",
      "0\n",
      "1\n",
      "1\n",
      "0\n",
      "0\n",
      "1\n",
      "2\n",
      "0\n",
      "1\n",
      "8\n",
      "6\n",
      "2\n",
      "2\n",
      "2\n",
      "6\n",
      "12\n",
      "1\n",
      "3\n",
      "0\n",
      "2\n",
      "3\n",
      "1\n",
      "5\n",
      "4\n",
      "2\n",
      "3\n",
      "0\n",
      "0\n"
     ]
    }
   ],
   "source": [
    "for lk in likesList:\n",
    "    print(lk)"
   ]
  },
  {
   "cell_type": "code",
   "execution_count": 58,
   "metadata": {},
   "outputs": [
    {
     "data": {
      "text/plain": [
       "48"
      ]
     },
     "execution_count": 58,
     "metadata": {},
     "output_type": "execute_result"
    }
   ],
   "source": [
    "len(likesList)"
   ]
  },
  {
   "cell_type": "code",
   "execution_count": 79,
   "metadata": {},
   "outputs": [
    {
     "name": "stdout",
     "output_type": "stream",
     "text": [
      " 5 Sterne \n",
      " 5 Sterne \n",
      " 5 Sterne \n",
      " 1 Stern \n",
      " 1 Stern \n",
      " 5 Sterne \n",
      " 4 Sterne \n",
      " 5 Sterne \n",
      " 5 Sterne \n",
      " 5 Sterne \n",
      " 2 Sterne \n",
      " 1 Stern \n",
      " 1 Stern \n",
      " 1 Stern \n",
      " 1 Stern \n",
      " 2 Sterne \n",
      " 5 Sterne \n",
      " 1 Stern \n",
      " 3 Sterne \n",
      " 1 Stern \n",
      " 5 Sterne \n",
      " 1 Stern \n",
      " 5 Sterne \n",
      " 2 Sterne \n",
      " 1 Stern \n",
      " 1 Stern \n",
      " 1 Stern \n",
      " 3 Sterne \n",
      " 1 Stern \n",
      " 1 Stern \n",
      " 1 Stern \n",
      " 1 Stern \n",
      " 5 Sterne \n",
      " 5 Sterne \n",
      " 1 Stern \n",
      " 1 Stern \n",
      " 3 Sterne \n",
      " 1 Stern \n",
      " 5 Sterne \n",
      " 1 Stern \n",
      " 1 Stern \n",
      " 1 Stern \n",
      " 1 Stern \n",
      " 5 Sterne \n",
      " 1 Stern \n",
      " 1 Stern \n",
      " 5 Sterne \n",
      " 1 Stern \n",
      " 4 Sterne \n",
      " 2 Sterne \n",
      " 3 Sterne \n",
      " 1 Stern \n",
      " 1 Stern \n",
      " 2 Sterne \n",
      " 1 Stern \n",
      " 1 Stern \n",
      " 5 Sterne \n",
      " 1 Stern \n",
      " 2 Sterne \n",
      " 5 Sterne \n",
      " 1 Stern \n",
      " 1 Stern \n",
      " 5 Sterne \n",
      " 3 Sterne \n",
      " 5 Sterne \n",
      " 1 Stern \n",
      " 1 Stern \n"
     ]
    }
   ],
   "source": [
    "\n",
    "s_reviews = browser.find_elements_by_css_selector(\"[class='section-review-stars']\")\n",
    "star_reviews_list = []\n",
    "\n",
    "for s in s_reviews:\n",
    "    star_reviews_list.append(s.get_attribute(\"aria-label\"))\n",
    "for i in star_reviews_list:\n",
    "    print(i)"
   ]
  },
  {
   "cell_type": "code",
   "execution_count": 80,
   "metadata": {},
   "outputs": [
    {
     "data": {
      "text/plain": [
       "67"
      ]
     },
     "execution_count": 80,
     "metadata": {},
     "output_type": "execute_result"
    }
   ],
   "source": [
    "len(star_reviews_list)"
   ]
  },
  {
   "cell_type": "code",
   "execution_count": null,
   "metadata": {},
   "outputs": [],
   "source": []
  }
 ],
 "metadata": {
  "kernelspec": {
   "display_name": "Python 3",
   "language": "python",
   "name": "python3"
  },
  "language_info": {
   "codemirror_mode": {
    "name": "ipython",
    "version": 3
   },
   "file_extension": ".py",
   "mimetype": "text/x-python",
   "name": "python",
   "nbconvert_exporter": "python",
   "pygments_lexer": "ipython3",
   "version": "3.8.5"
  }
 },
 "nbformat": 4,
 "nbformat_minor": 4
}
