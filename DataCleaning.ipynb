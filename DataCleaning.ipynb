{
 "cells": [
  {
   "cell_type": "code",
   "execution_count": 69,
   "metadata": {},
   "outputs": [],
   "source": [
    "from flask import Flask, render_template, request\n",
    "import pandas as pd"
   ]
  },
  {
   "cell_type": "code",
   "execution_count": 70,
   "metadata": {},
   "outputs": [],
   "source": [
    "reviews = pd.read_csv(\"output.csv\")"
   ]
  },
  {
   "cell_type": "code",
   "execution_count": 71,
   "metadata": {},
   "outputs": [],
   "source": [
    "gData=pd.read_csv(\"ggl_scrap_allurl_22.csv\")"
   ]
  },
  {
   "cell_type": "code",
   "execution_count": 100,
   "metadata": {},
   "outputs": [
    {
     "data": {
      "text/html": [
       "<div>\n",
       "<style scoped>\n",
       "    .dataframe tbody tr th:only-of-type {\n",
       "        vertical-align: middle;\n",
       "    }\n",
       "\n",
       "    .dataframe tbody tr th {\n",
       "        vertical-align: top;\n",
       "    }\n",
       "\n",
       "    .dataframe thead th {\n",
       "        text-align: right;\n",
       "    }\n",
       "</style>\n",
       "<table border=\"1\" class=\"dataframe\">\n",
       "  <thead>\n",
       "    <tr style=\"text-align: right;\">\n",
       "      <th></th>\n",
       "      <th>K_ID</th>\n",
       "      <th>Name_der_Klinik</th>\n",
       "      <th>Sternbewertung</th>\n",
       "      <th>Datum_der_Bewertung</th>\n",
       "      <th>Likes</th>\n",
       "      <th>Textuelle_Bewertung</th>\n",
       "      <th>Unnamed: 6</th>\n",
       "    </tr>\n",
       "  </thead>\n",
       "  <tbody>\n",
       "    <tr>\n",
       "      <th>0</th>\n",
       "      <td>1</td>\n",
       "      <td>Augenklinik - Dr. Hoffmann</td>\n",
       "      <td>5 Sterne</td>\n",
       "      <td>vor 2 Tagen</td>\n",
       "      <td>0</td>\n",
       "      <td>Zunächst erst einmal gibt es ein ganz tolles V...</td>\n",
       "      <td>NaN</td>\n",
       "    </tr>\n",
       "    <tr>\n",
       "      <th>1</th>\n",
       "      <td>1</td>\n",
       "      <td>Augenklinik - Dr. Hoffmann</td>\n",
       "      <td>5 Sterne</td>\n",
       "      <td>vor einem Monat</td>\n",
       "      <td>0</td>\n",
       "      <td>Ich war bereits aufgrund von Notfällen   in de...</td>\n",
       "      <td>NaN</td>\n",
       "    </tr>\n",
       "    <tr>\n",
       "      <th>2</th>\n",
       "      <td>1</td>\n",
       "      <td>Augenklinik - Dr. Hoffmann</td>\n",
       "      <td>5 Sterne</td>\n",
       "      <td>vor einem Monat</td>\n",
       "      <td>0</td>\n",
       "      <td>Ich wurde sehr zuvorkommend behandelt und hatt...</td>\n",
       "      <td>NaN</td>\n",
       "    </tr>\n",
       "    <tr>\n",
       "      <th>3</th>\n",
       "      <td>1</td>\n",
       "      <td>Augenklinik - Dr. Hoffmann</td>\n",
       "      <td>5 Sterne</td>\n",
       "      <td>vor einem Monat</td>\n",
       "      <td>0</td>\n",
       "      <td>Sehr gute Klinik und ich habe kaum Wartezeit e...</td>\n",
       "      <td>NaN</td>\n",
       "    </tr>\n",
       "    <tr>\n",
       "      <th>4</th>\n",
       "      <td>1</td>\n",
       "      <td>Augenklinik - Dr. Hoffmann</td>\n",
       "      <td>5 Sterne</td>\n",
       "      <td>vor 2 Wochen</td>\n",
       "      <td>0</td>\n",
       "      <td>Die Betreuung und Versorgung vor und nach der ...</td>\n",
       "      <td>NaN</td>\n",
       "    </tr>\n",
       "    <tr>\n",
       "      <th>...</th>\n",
       "      <td>...</td>\n",
       "      <td>...</td>\n",
       "      <td>...</td>\n",
       "      <td>...</td>\n",
       "      <td>...</td>\n",
       "      <td>...</td>\n",
       "      <td>...</td>\n",
       "    </tr>\n",
       "    <tr>\n",
       "      <th>2568</th>\n",
       "      <td>22</td>\n",
       "      <td>Kreiskrankenhaus Osterholz</td>\n",
       "      <td>1 Stern</td>\n",
       "      <td>vor 3 Jahren</td>\n",
       "      <td>0</td>\n",
       "      <td>NaN</td>\n",
       "      <td>NaN</td>\n",
       "    </tr>\n",
       "    <tr>\n",
       "      <th>2569</th>\n",
       "      <td>22</td>\n",
       "      <td>Kreiskrankenhaus Osterholz</td>\n",
       "      <td>1 Stern</td>\n",
       "      <td>vor 2 Jahren</td>\n",
       "      <td>0</td>\n",
       "      <td>NaN</td>\n",
       "      <td>NaN</td>\n",
       "    </tr>\n",
       "    <tr>\n",
       "      <th>2570</th>\n",
       "      <td>22</td>\n",
       "      <td>Kreiskrankenhaus Osterholz</td>\n",
       "      <td>4 Sterne</td>\n",
       "      <td>vor einem Jahr</td>\n",
       "      <td>0</td>\n",
       "      <td>NaN</td>\n",
       "      <td>NaN</td>\n",
       "    </tr>\n",
       "    <tr>\n",
       "      <th>2571</th>\n",
       "      <td>22</td>\n",
       "      <td>Kreiskrankenhaus Osterholz</td>\n",
       "      <td>5 Sterne</td>\n",
       "      <td>vor einem Jahr</td>\n",
       "      <td>0</td>\n",
       "      <td>NaN</td>\n",
       "      <td>NaN</td>\n",
       "    </tr>\n",
       "    <tr>\n",
       "      <th>2572</th>\n",
       "      <td>22</td>\n",
       "      <td>Kreiskrankenhaus Osterholz</td>\n",
       "      <td>1 Stern</td>\n",
       "      <td>vor 2 Jahren</td>\n",
       "      <td>0</td>\n",
       "      <td>NaN</td>\n",
       "      <td>NaN</td>\n",
       "    </tr>\n",
       "  </tbody>\n",
       "</table>\n",
       "<p>2573 rows × 7 columns</p>\n",
       "</div>"
      ],
      "text/plain": [
       "      K_ID             Name_der_Klinik Sternbewertung Datum_der_Bewertung  \\\n",
       "0        1  Augenklinik - Dr. Hoffmann      5 Sterne          vor 2 Tagen   \n",
       "1        1  Augenklinik - Dr. Hoffmann      5 Sterne      vor einem Monat   \n",
       "2        1  Augenklinik - Dr. Hoffmann      5 Sterne      vor einem Monat   \n",
       "3        1  Augenklinik - Dr. Hoffmann      5 Sterne      vor einem Monat   \n",
       "4        1  Augenklinik - Dr. Hoffmann      5 Sterne         vor 2 Wochen   \n",
       "...    ...                         ...            ...                 ...   \n",
       "2568    22  Kreiskrankenhaus Osterholz       1 Stern         vor 3 Jahren   \n",
       "2569    22  Kreiskrankenhaus Osterholz       1 Stern         vor 2 Jahren   \n",
       "2570    22  Kreiskrankenhaus Osterholz      4 Sterne       vor einem Jahr   \n",
       "2571    22  Kreiskrankenhaus Osterholz      5 Sterne       vor einem Jahr   \n",
       "2572    22  Kreiskrankenhaus Osterholz       1 Stern         vor 2 Jahren   \n",
       "\n",
       "      Likes                                Textuelle_Bewertung Unnamed: 6  \n",
       "0         0  Zunächst erst einmal gibt es ein ganz tolles V...        NaN  \n",
       "1         0  Ich war bereits aufgrund von Notfällen   in de...        NaN  \n",
       "2         0  Ich wurde sehr zuvorkommend behandelt und hatt...        NaN  \n",
       "3         0  Sehr gute Klinik und ich habe kaum Wartezeit e...        NaN  \n",
       "4         0  Die Betreuung und Versorgung vor und nach der ...        NaN  \n",
       "...     ...                                                ...        ...  \n",
       "2568      0                                                NaN        NaN  \n",
       "2569      0                                                NaN        NaN  \n",
       "2570      0                                                NaN        NaN  \n",
       "2571      0                                                NaN        NaN  \n",
       "2572      0                                                NaN        NaN  \n",
       "\n",
       "[2573 rows x 7 columns]"
      ]
     },
     "execution_count": 100,
     "metadata": {},
     "output_type": "execute_result"
    }
   ],
   "source": [
    "gData"
   ]
  },
  {
   "cell_type": "code",
   "execution_count": 72,
   "metadata": {},
   "outputs": [],
   "source": [
    "clinics = reviews[\"Name der Klinik\"].unique()\n",
    "gclinics=gData[\"Name_der_Klinik\"].unique()"
   ]
  },
  {
   "cell_type": "code",
   "execution_count": 73,
   "metadata": {},
   "outputs": [
    {
     "data": {
      "text/plain": [
       "array(['Augenklinik - Dr. Hoffmann', 'Asklepios Fachklinikum Göttingen',\n",
       "       'HEH Herzogin Elisabeth Hospital', 'Sophienklinik GmbH',\n",
       "       'DIAKOVERE Annastift', 'KRH Klinikum Lehrte',\n",
       "       'KRH Klinikum Großburgwedel', 'DIAKOVERE Friederikenstift',\n",
       "       'Kreis- und Stadtkrankenhaus Alfeld', 'Krankenhaus Lindenbrunn',\n",
       "       'DRK-Clementinenhaus', 'Asklepios Fachklinikum Tiefenbrunn',\n",
       "       'Ostemed Klinik Bremervörde', 'AGAPLESION EV. KLINIKUM SCHAUMBURG',\n",
       "       'HELIOS Klinik Cuxhaven', 'HELIOS Klinikum Hildesheim GmbH',\n",
       "       'Klinikum Emden', 'Klinik Fallingbostel',\n",
       "       'Marien Hospital Papenburg-Aschendorf',\n",
       "       'Krankenhaus Ludmillenstift', 'Sana Klinikum Hameln-Pyrmont',\n",
       "       'Kreiskrankenhaus Osterholz',\n",
       "       'Heidekreis-Klinikum GmbH - Krankenhaus Soltau',\n",
       "       'Krankenhaus der evangelisch-lutherischen Diakonissenanstalt Marienstift'],\n",
       "      dtype=object)"
      ]
     },
     "execution_count": 73,
     "metadata": {},
     "output_type": "execute_result"
    }
   ],
   "source": [
    "clinics"
   ]
  },
  {
   "cell_type": "code",
   "execution_count": 74,
   "metadata": {},
   "outputs": [
    {
     "data": {
      "text/plain": [
       "array(['Augenklinik Dr. Hoffmann', 'Krankenhaus Marienstift gGmbH',\n",
       "       'Herzogin Elisabeth Hospital', 'Asklepios Fachklinikum Göttingen',\n",
       "       'Asklepios Fachklinikum Tiefenbrunn', 'DIAKOVERE Friederikenstift',\n",
       "       'DIAKOVERE Annastift', 'DRK-Krankenhaus Clementinenhaus',\n",
       "       'Sophienklinik GmbH', 'KRH Klinikum Großburgwedel',\n",
       "       'KRH Klinikum Lehrte', 'Krankenhaus Lindenbrunn',\n",
       "       'Sana Klinikum Hameln-Pyrmont', 'AMEOS Klinikum Alfeld',\n",
       "       'Helios Klinikum Hildesheim', 'HELIOS Klinik Cuxhaven',\n",
       "       'OsteMed Klinik Bremervörde', 'Klinik Fallingbostel',\n",
       "       'Klinikum Emden - Hans-Susemihl-Krankenhaus',\n",
       "       'Krankenhaus Ludmillenstift',\n",
       "       'Marienkrankenhaus Papenburg- Aschendorf GmbH Betriebsstätte Aschendorf',\n",
       "       'Kreiskrankenhaus Osterholz'], dtype=object)"
      ]
     },
     "execution_count": 74,
     "metadata": {},
     "output_type": "execute_result"
    }
   ],
   "source": [
    "gclinics"
   ]
  },
  {
   "cell_type": "code",
   "execution_count": 75,
   "metadata": {},
   "outputs": [],
   "source": [
    "gData[\"Name_der_Klinik\"]=gData[\"Name_der_Klinik\"].replace(\"Augenklinik Dr. Hoffmann\",\"Augenklinik - Dr. Hoffmann\")"
   ]
  },
  {
   "cell_type": "code",
   "execution_count": 76,
   "metadata": {},
   "outputs": [
    {
     "name": "stdout",
     "output_type": "stream",
     "text": [
      "Augenklinik - Dr. Hoffmann\n",
      "HEH Herzogin Elisabeth Hospital\n",
      "Kreis- und Stadtkrankenhaus Alfeld\n",
      "DRK-Clementinenhaus\n",
      "Ostemed Klinik Bremervörde\n",
      "AGAPLESION EV. KLINIKUM SCHAUMBURG\n",
      "HELIOS Klinikum Hildesheim GmbH\n",
      "Klinikum Emden\n",
      "Marien Hospital Papenburg-Aschendorf\n",
      "Heidekreis-Klinikum GmbH - Krankenhaus Soltau\n",
      "Krankenhaus der evangelisch-lutherischen Diakonissenanstalt Marienstift\n"
     ]
    }
   ],
   "source": [
    "for i in clinics:\n",
    "    if i not in gclinics:\n",
    "        print(i)"
   ]
  },
  {
   "cell_type": "code",
   "execution_count": 77,
   "metadata": {},
   "outputs": [],
   "source": [
    "gData[\"Name_der_Klinik\"]=gData[\"Name_der_Klinik\"].replace(\"Herzogin Elisabeth Hospital\",\"HEH Herzogin Elisabeth Hospital\")"
   ]
  },
  {
   "cell_type": "code",
   "execution_count": 78,
   "metadata": {},
   "outputs": [],
   "source": [
    "clinics = reviews[\"Name der Klinik\"].unique()\n",
    "gclinics=gData[\"Name_der_Klinik\"].unique()"
   ]
  },
  {
   "cell_type": "code",
   "execution_count": 79,
   "metadata": {},
   "outputs": [
    {
     "name": "stdout",
     "output_type": "stream",
     "text": [
      "Kreis- und Stadtkrankenhaus Alfeld\n",
      "DRK-Clementinenhaus\n",
      "Ostemed Klinik Bremervörde\n",
      "AGAPLESION EV. KLINIKUM SCHAUMBURG\n",
      "HELIOS Klinikum Hildesheim GmbH\n",
      "Klinikum Emden\n",
      "Marien Hospital Papenburg-Aschendorf\n",
      "Heidekreis-Klinikum GmbH - Krankenhaus Soltau\n",
      "Krankenhaus der evangelisch-lutherischen Diakonissenanstalt Marienstift\n"
     ]
    }
   ],
   "source": [
    "for i in clinics:\n",
    "    if i not in gclinics:\n",
    "        print(i)"
   ]
  },
  {
   "cell_type": "code",
   "execution_count": 80,
   "metadata": {},
   "outputs": [],
   "source": [
    "gData[\"Name_der_Klinik\"]=gData[\"Name_der_Klinik\"].replace(\"Klinikum Emden - Hans-Susemihl-Krankenhaus\",\"Klinikum Emden\")"
   ]
  },
  {
   "cell_type": "code",
   "execution_count": 81,
   "metadata": {},
   "outputs": [],
   "source": [
    "gData[\"Name_der_Klinik\"]=gData[\"Name_der_Klinik\"].replace(\"OsteMed Klinik Bremervörde\",\"Ostemed Klinik Bremervörde\")"
   ]
  },
  {
   "cell_type": "code",
   "execution_count": 82,
   "metadata": {},
   "outputs": [],
   "source": [
    "clinics = reviews[\"Name der Klinik\"].unique()\n",
    "gclinics=gData[\"Name_der_Klinik\"].unique()"
   ]
  },
  {
   "cell_type": "code",
   "execution_count": 83,
   "metadata": {},
   "outputs": [
    {
     "name": "stdout",
     "output_type": "stream",
     "text": [
      "Kreis- und Stadtkrankenhaus Alfeld\n",
      "DRK-Clementinenhaus\n",
      "AGAPLESION EV. KLINIKUM SCHAUMBURG\n",
      "HELIOS Klinikum Hildesheim GmbH\n",
      "Marien Hospital Papenburg-Aschendorf\n",
      "Heidekreis-Klinikum GmbH - Krankenhaus Soltau\n",
      "Krankenhaus der evangelisch-lutherischen Diakonissenanstalt Marienstift\n"
     ]
    }
   ],
   "source": [
    "for i in clinics:\n",
    "    if i not in gclinics:\n",
    "        print(i)\n",
    "# in klinicbewertung.de Klinics, die sich nicht in google befinden"
   ]
  },
  {
   "cell_type": "code",
   "execution_count": null,
   "metadata": {},
   "outputs": [],
   "source": []
  },
  {
   "cell_type": "code",
   "execution_count": 84,
   "metadata": {},
   "outputs": [
    {
     "name": "stdout",
     "output_type": "stream",
     "text": [
      "Krankenhaus Marienstift gGmbH\n",
      "DRK-Krankenhaus Clementinenhaus\n",
      "AMEOS Klinikum Alfeld\n",
      "Helios Klinikum Hildesheim\n",
      "Marienkrankenhaus Papenburg- Aschendorf GmbH Betriebsstätte Aschendorf\n"
     ]
    }
   ],
   "source": [
    "for j in gclinics:\n",
    "    if j not in clinics:\n",
    "        print(j)\n",
    "#google Klinics, die sich nicht in Klinicbewertungen befinden"
   ]
  },
  {
   "cell_type": "code",
   "execution_count": 85,
   "metadata": {},
   "outputs": [],
   "source": [
    "gData[\"Name_der_Klinik\"]=gData[\"Name_der_Klinik\"].replace(\"Marienkrankenhaus Papenburg- Aschendorf GmbH Betriebsstätte Aschendorf\",\"Marien Hospital Papenburg-Aschendorf\")"
   ]
  },
  {
   "cell_type": "code",
   "execution_count": 86,
   "metadata": {},
   "outputs": [],
   "source": [
    "gData[\"Name_der_Klinik\"]=gData[\"Name_der_Klinik\"].replace(\"Helios Klinikum Hildesheim\",\"HELIOS Klinikum Hildesheim GmbH\")"
   ]
  },
  {
   "cell_type": "code",
   "execution_count": 87,
   "metadata": {},
   "outputs": [],
   "source": [
    "gData[\"Name_der_Klinik\"]=gData[\"Name_der_Klinik\"].replace(\"DRK-Krankenhaus Clementinenhaus\",\"DRK-Clementinenhaus\")"
   ]
  },
  {
   "cell_type": "code",
   "execution_count": 88,
   "metadata": {},
   "outputs": [],
   "source": [
    "gData[\"Name_der_Klinik\"]=gData[\"Name_der_Klinik\"].replace(\"Krankenhaus Marienstift gGmbH\",\"Krankenhaus der evangelisch-lutherischen Diakonissenanstalt Marienstift\")"
   ]
  },
  {
   "cell_type": "code",
   "execution_count": 89,
   "metadata": {},
   "outputs": [],
   "source": [
    "clinics = reviews[\"Name der Klinik\"].unique()\n",
    "gclinics=gData[\"Name_der_Klinik\"].unique()"
   ]
  },
  {
   "cell_type": "code",
   "execution_count": 90,
   "metadata": {},
   "outputs": [
    {
     "name": "stdout",
     "output_type": "stream",
     "text": [
      "Kreis- und Stadtkrankenhaus Alfeld\n",
      "AGAPLESION EV. KLINIKUM SCHAUMBURG\n",
      "Heidekreis-Klinikum GmbH - Krankenhaus Soltau\n"
     ]
    }
   ],
   "source": [
    "for i in clinics:\n",
    "    if i not in gclinics:\n",
    "        print(i)\n",
    "# in klinicbewertung.de Klinics, die sich nicht in google befinden"
   ]
  },
  {
   "cell_type": "code",
   "execution_count": 91,
   "metadata": {},
   "outputs": [
    {
     "name": "stdout",
     "output_type": "stream",
     "text": [
      "AMEOS Klinikum Alfeld\n"
     ]
    }
   ],
   "source": [
    "for j in gclinics:\n",
    "    if j not in clinics:\n",
    "        print(j)\n",
    "#google Klinics, die sich nicht in Klinicbewertungen befinden"
   ]
  },
  {
   "cell_type": "code",
   "execution_count": 92,
   "metadata": {},
   "outputs": [],
   "source": [
    "gData[\"Name_der_Klinik\"]=gData[\"Name_der_Klinik\"].replace(\"AMEOS Klinikum Alfeld\",\"Kreis- und Stadtkrankenhaus Alfeld\")"
   ]
  },
  {
   "cell_type": "code",
   "execution_count": 95,
   "metadata": {},
   "outputs": [],
   "source": [
    "clinics = reviews[\"Name der Klinik\"].unique()\n",
    "gclinics=gData[\"Name_der_Klinik\"].unique()"
   ]
  },
  {
   "cell_type": "code",
   "execution_count": 96,
   "metadata": {},
   "outputs": [
    {
     "name": "stdout",
     "output_type": "stream",
     "text": [
      "AGAPLESION EV. KLINIKUM SCHAUMBURG\n",
      "Heidekreis-Klinikum GmbH - Krankenhaus Soltau\n"
     ]
    }
   ],
   "source": [
    "for i in clinics:\n",
    "    if i not in gclinics:\n",
    "        print(i)\n",
    "# in klinicbewertung.de Klinics, die sich nicht in google befinden"
   ]
  },
  {
   "cell_type": "code",
   "execution_count": 97,
   "metadata": {},
   "outputs": [],
   "source": [
    "for j in gclinics:\n",
    "    if j not in clinics:\n",
    "        print(j)\n",
    "#google Klinics, die sich nicht in Klinicbewertungen befinden"
   ]
  },
  {
   "cell_type": "code",
   "execution_count": 98,
   "metadata": {},
   "outputs": [],
   "source": [
    "gData.to_csv(r'C:\\xampp\\htdocs\\abschluss\\Final-Project\\web-seite\\ggl_scrap_allurl_22.csv', index = False)"
   ]
  },
  {
   "cell_type": "code",
   "execution_count": null,
   "metadata": {},
   "outputs": [],
   "source": []
  }
 ],
 "metadata": {
  "kernelspec": {
   "display_name": "Python 3",
   "language": "python",
   "name": "python3"
  },
  "language_info": {
   "codemirror_mode": {
    "name": "ipython",
    "version": 3
   },
   "file_extension": ".py",
   "mimetype": "text/x-python",
   "name": "python",
   "nbconvert_exporter": "python",
   "pygments_lexer": "ipython3",
   "version": "3.8.5"
  }
 },
 "nbformat": 4,
 "nbformat_minor": 4
}
